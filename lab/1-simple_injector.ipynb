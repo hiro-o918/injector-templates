{
 "cells": [
  {
   "cell_type": "markdown",
   "metadata": {},
   "source": [
    "# Simple Injector Examples\n",
    "This example provides injecting way with non-nested some classes and some variables.\n",
    "The class following a protocol"
   ]
  },
  {
   "cell_type": "markdown",
   "metadata": {},
   "source": [
    "## load packages"
   ]
  },
  {
   "cell_type": "code",
   "execution_count": 1,
   "metadata": {
    "collapsed": false,
    "jupyter": {
     "outputs_hidden": false
    },
    "lines_to_next_cell": 0
   },
   "outputs": [],
   "source": [
    "from dataclasses import dataclass\n",
    "from datetime import datetime\n",
    "from typing import Protocol\n",
    "\n",
    "from injector import Module, Binder, inject, Injector, provider, singleton"
   ]
  },
  {
   "cell_type": "markdown",
   "metadata": {},
   "source": [
    "## Setting up Classes"
   ]
  },
  {
   "cell_type": "code",
   "execution_count": 2,
   "metadata": {
    "collapsed": false,
    "jupyter": {
     "outputs_hidden": false
    },
    "lines_to_next_cell": 0
   },
   "outputs": [],
   "source": [
    "class Transportation(Protocol):\n",
    "    \"\"\"Protocol to be followed transportation\n",
    "    \"\"\"\n",
    "    def transport(self) -> None:\n",
    "        ...\n",
    "\n",
    "    def __repr__(self) -> str:\n",
    "        ...\n",
    "\n",
    "\n",
    "class Ship:\n",
    "    \"\"\"A kind of transporation\n",
    "    \"\"\"\n",
    "    def __init__(self, name: str = 'titanic') -> None:\n",
    "        self.name = name\n",
    "\n",
    "    def transport(self) -> None:\n",
    "        print(f'{self.name} goes on the sea')\n",
    "\n",
    "    def __repr__(self) -> str:\n",
    "        return self.name\n",
    "\n",
    "\n",
    "@inject\n",
    "@dataclass\n",
    "class Route:\n",
    "    \"\"\"Represents a route by ship\n",
    "    \"\"\"\n",
    "    departure_time: datetime\n",
    "    ship: Transportation\n",
    "\n",
    "    def __repr__(self) -> str:\n",
    "        return f\"\"\"\n",
    "            {self.departure_time=}\n",
    "            {self.ship=}\n",
    "        \"\"\"\n"
   ]
  },
  {
   "cell_type": "markdown",
   "metadata": {
    "lines_to_next_cell": 2
   },
   "source": [
    "## Injection"
   ]
  },
  {
   "cell_type": "markdown",
   "metadata": {
    "lines_to_next_cell": 2
   },
   "source": [
    "### With Fixed Configuration\n",
    "This module provides a route with current departure"
   ]
  },
  {
   "cell_type": "code",
   "execution_count": 3,
   "metadata": {
    "collapsed": false,
    "jupyter": {
     "outputs_hidden": false
    },
    "lines_to_end_of_cell_marker": 0,
    "lines_to_next_cell": 1
   },
   "outputs": [
    {
     "name": "stdout",
     "output_type": "stream",
     "text": [
      "\n",
      "            self.departure_time=datetime.datetime(2020, 5, 19, 14, 34, 24, 891598)\n",
      "            self.ship=titanic\n",
      "        \n"
     ]
    }
   ],
   "source": [
    "class CurrentRouteModule(Module):\n",
    "    \"\"\"Creates `Routes` from current time\n",
    "    \"\"\"\n",
    "    def configure(self, binder: Binder) -> None:\n",
    "        binder.bind(Transportation, to=Ship)\n",
    "        binder.bind(datetime, to=datetime.now())\n",
    "\n",
    "\n",
    "injector1 = Injector(CurrentRouteModule)\n",
    "route1 = injector1.get(Route)\n",
    "print(route1)"
   ]
  },
  {
   "cell_type": "markdown",
   "metadata": {},
   "source": [
    "### With Variable Configuration\n",
    "This module provides a route with departure time set by outer scope.\n",
    "There is several ways to achieve this."
   ]
  },
  {
   "cell_type": "markdown",
   "metadata": {},
   "source": [
    "#### inject with a config class"
   ]
  },
  {
   "cell_type": "code",
   "execution_count": 11,
   "metadata": {
    "lines_to_end_of_cell_marker": 0,
    "lines_to_next_cell": 1
   },
   "outputs": [],
   "source": [
    "@dataclass\n",
    "class DepartureConfig:\n",
    "    departure_time: datetime\n",
    "\n",
    "\n",
    "class RouteModule(Module):\n",
    "    \"\"\"Common Route Module\n",
    "    \"\"\"\n",
    "\n",
    "    def configure(self, binder: Binder) -> None:\n",
    "        binder.bind(Transportation, to=Ship)\n",
    "\n",
    "    @provider\n",
    "    def provide_departure(self, config: DepartureConfig) -> datetime:\n",
    "        return config.departure_time\n",
    "\n",
    "\n",
    "def configure_departure_for_2020_new_year(binder: Binder) -> None:\n",
    "    binder.bind(\n",
    "        DepartureConfig,\n",
    "        to=DepartureConfig(\n",
    "            departure_time=datetime(\n",
    "                year=2020, month=1, day=1,\n",
    "            )\n",
    "        ),\n",
    "    )\n",
    "\n",
    "\n",
    "def departure_config_for_2021_new_year(binder: Binder) -> None:\n",
    "    binder.bind(\n",
    "        DepartureConfig,\n",
    "        to=DepartureConfig(\n",
    "            departure_time=datetime(\n",
    "                year=2020, month=1, day=1,\n",
    "            )\n",
    "        ),\n",
    "    )"
   ]
  },
  {
   "cell_type": "code",
   "execution_count": 12,
   "metadata": {},
   "outputs": [
    {
     "name": "stdout",
     "output_type": "stream",
     "text": [
      "\n",
      "            self.departure_time=datetime.datetime(2020, 1, 1, 0, 0)\n",
      "            self.ship=titanic\n",
      "        \n"
     ]
    }
   ],
   "source": [
    "injector2 = Injector([configure_departure_for_2020_new_year, RouteModule()])\n",
    "route2 = injector2.get(Route)\n",
    "print(route2)"
   ]
  },
  {
   "cell_type": "code",
   "execution_count": 13,
   "metadata": {},
   "outputs": [
    {
     "name": "stdout",
     "output_type": "stream",
     "text": [
      "\n",
      "            self.departure_time=datetime.datetime(2020, 1, 1, 0, 0)\n",
      "            self.ship=titanic\n",
      "        \n"
     ]
    }
   ],
   "source": [
    "injector3 = Injector([departure_config_for_2021_new_year, RouteModule()])\n",
    "route3 = injector3.get(Route)\n",
    "print(route3)"
   ]
  },
  {
   "cell_type": "markdown",
   "source": [
    "Now, we can get two routes from common `RouteModule`"
   ],
   "metadata": {
    "collapsed": false
   }
  },
  {
   "cell_type": "markdown",
   "metadata": {},
   "source": [
    "Now, we can get two routes from common `RouteModule`"
   ]
  }
 ],
 "metadata": {
  "jupytext": {
   "text_representation": {
    "extension": ".py",
    "format_name": "light",
    "format_version": "1.5",
    "jupytext_version": "1.4.2"
   }
  },
  "kernelspec": {
   "display_name": "Python 3",
   "language": "python",
   "name": "python3"
  },
  "language_info": {
   "codemirror_mode": {
    "name": "ipython",
    "version": 3
   },
   "file_extension": ".py",
   "mimetype": "text/x-python",
   "name": "python",
   "nbconvert_exporter": "python",
   "pygments_lexer": "ipython3",
   "version": "3.8.3"
  },
  "pycharm": {
   "stem_cell": {
    "cell_type": "raw",
    "source": [],
    "metadata": {
     "collapsed": false
    }
   }
  }
 },
 "nbformat": 4,
 "nbformat_minor": 4
}